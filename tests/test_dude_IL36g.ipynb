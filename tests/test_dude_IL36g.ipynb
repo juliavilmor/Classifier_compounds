{
 "cells": [
  {
   "cell_type": "code",
   "execution_count": 2,
   "metadata": {},
   "outputs": [
    {
     "name": "stderr",
     "output_type": "stream",
     "text": [
      "2024-02-23 10:46:43.007101: I tensorflow/core/util/port.cc:111] oneDNN custom operations are on. You may see slightly different numerical results due to floating-point round-off errors from different computation orders. To turn them off, set the environment variable `TF_ENABLE_ONEDNN_OPTS=0`.\n",
      "2024-02-23 10:46:43.100179: E tensorflow/compiler/xla/stream_executor/cuda/cuda_dnn.cc:9342] Unable to register cuDNN factory: Attempting to register factory for plugin cuDNN when one has already been registered\n",
      "2024-02-23 10:46:43.100210: E tensorflow/compiler/xla/stream_executor/cuda/cuda_fft.cc:609] Unable to register cuFFT factory: Attempting to register factory for plugin cuFFT when one has already been registered\n",
      "2024-02-23 10:46:43.100235: E tensorflow/compiler/xla/stream_executor/cuda/cuda_blas.cc:1518] Unable to register cuBLAS factory: Attempting to register factory for plugin cuBLAS when one has already been registered\n",
      "2024-02-23 10:46:43.108254: I tensorflow/core/platform/cpu_feature_guard.cc:182] This TensorFlow binary is optimized to use available CPU instructions in performance-critical operations.\n",
      "To enable the following instructions: AVX2 AVX512F AVX512_VNNI FMA, in other operations, rebuild TensorFlow with the appropriate compiler flags.\n",
      "2024-02-23 10:46:46.400256: W tensorflow/compiler/tf2tensorrt/utils/py_utils.cc:38] TF-TRT Warning: Could not find TensorRT\n",
      "/data/miniconda3/envs/PLM/lib/python3.11/site-packages/dask/dataframe/_pyarrow_compat.py:17: FutureWarning: Minimal version of pyarrow will soon be increased to 14.0.1. You are using 11.0.0. Please consider upgrading.\n",
      "  warnings.warn(\n"
     ]
    }
   ],
   "source": [
    "# Module load\n",
    "from classifier_embedding import *\n",
    "from classifier_model import *\n",
    "import time"
   ]
  },
  {
   "cell_type": "markdown",
   "metadata": {},
   "source": [
    "# MODEL"
   ]
  },
  {
   "cell_type": "code",
   "execution_count": 23,
   "metadata": {},
   "outputs": [
    {
     "name": "stdout",
     "output_type": "stream",
     "text": [
      "Original dataset:\n",
      " - Number of active compounds:  7432\n",
      " - Number of inactive compounds (decoys):  141195\n",
      "Original dataset:\n",
      " - Number of active compounds:  30538\n",
      " - Number of inactive compounds (decoys):  1407797\n"
     ]
    }
   ],
   "source": [
    "# Fix Model to XGBoost\n",
    "model_name = 'XGB'\n",
    "model_class = XGBClassifier(n_estimators=5000, device='cuda:0')\n",
    "# Fix Protein Embedding to ESM650M and Compound Embedding to ChemBERTa\n",
    "# Fix percentage of undersampling to 0.5\n",
    "percentage = 0.5\n",
    "\n",
    "\n",
    "# Load the data from IL36g retrospective target\n",
    "SEED = 1234\n",
    "\n",
    "# Load data\n",
    "df_IL36 = load_data_to_model(pickle_file='data_retrospective/data_embed.pkl')\n",
    "\n",
    "# if test 1 data sampled to 100.00, else test 2 full size data\n",
    "#df_dude = load_data_to_model(pickle_file='ESM2650M-ChemBERT2/data_embed_100000.pkl')\n",
    "df_dude = load_data_to_model(pickle_file='ESM2650M-ChemBERT2/data_embed.pkl')\n"
   ]
  },
  {
   "cell_type": "code",
   "execution_count": 24,
   "metadata": {},
   "outputs": [
    {
     "name": "stdout",
     "output_type": "stream",
     "text": [
      "Undersampling:\n",
      " - Original dataset shape Counter({0: 1407797, 1: 30538})\n",
      " - Resampled dataset shape Counter({0: 61076, 1: 30538})\n"
     ]
    }
   ],
   "source": [
    "# Undersampling dataset from dude (training set)\n",
    "X = df_dude['coembed'].tolist()\n",
    "Y = df_dude['Label'].tolist()\n",
    "X_res, Y_res = undersampling(Y, X, percentage=percentage)\n",
    "df_dude_res = pd.DataFrame({'coembed': X_res, 'Label': Y_res})"
   ]
  },
  {
   "cell_type": "code",
   "execution_count": 25,
   "metadata": {},
   "outputs": [
    {
     "name": "stdout",
     "output_type": "stream",
     "text": [
      "Accuracy: 0.95\n",
      "Sensitivity: 0.00\n",
      "Specificity: 1.00\n",
      "AUC: 0.51\n",
      "Precision: 0.03\n",
      "F1: 0.01\n",
      "Confusion matrix: {'tn': 140521, 'fp': 674, 'fn': 7408, 'tp': 24}\n",
      "(0.9456222624422211, 0.0032292787944025836, 0.9952264598604766, 0.5069591006620371, 0.034383954154727794, 0.005904059040590407)\n"
     ]
    }
   ],
   "source": [
    "# Train the model (dude) and test the model (IL36g)\n",
    "X_train = df_dude_res['coembed'].tolist()\n",
    "Y_train = df_dude_res['Label'].tolist()\n",
    "X_test = df_IL36['coembed'].tolist()\n",
    "Y_test = df_IL36['Label'].tolist()\n",
    "\n",
    "splits = (X_train, X_test, Y_train, Y_test)\n",
    "statistics_list = model_training_and_validation(model_class, splits=splits, verbose=True)\n",
    "statistics_list = statistics_list[0:6]\n",
    "print(statistics_list)\n"
   ]
  },
  {
   "cell_type": "code",
   "execution_count": 29,
   "metadata": {},
   "outputs": [
    {
     "data": {
      "text/html": [
       "<div>\n",
       "<style scoped>\n",
       "    .dataframe tbody tr th:only-of-type {\n",
       "        vertical-align: middle;\n",
       "    }\n",
       "\n",
       "    .dataframe tbody tr th {\n",
       "        vertical-align: top;\n",
       "    }\n",
       "\n",
       "    .dataframe thead th {\n",
       "        text-align: right;\n",
       "    }\n",
       "</style>\n",
       "<table border=\"1\" class=\"dataframe\">\n",
       "  <thead>\n",
       "    <tr style=\"text-align: right;\">\n",
       "      <th></th>\n",
       "      <th>IL36g_pred</th>\n",
       "    </tr>\n",
       "  </thead>\n",
       "  <tbody>\n",
       "    <tr>\n",
       "      <th>acc</th>\n",
       "      <td>0.945622</td>\n",
       "    </tr>\n",
       "    <tr>\n",
       "      <th>sens</th>\n",
       "      <td>0.003229</td>\n",
       "    </tr>\n",
       "    <tr>\n",
       "      <th>spec</th>\n",
       "      <td>0.995226</td>\n",
       "    </tr>\n",
       "    <tr>\n",
       "      <th>auc</th>\n",
       "      <td>0.506959</td>\n",
       "    </tr>\n",
       "    <tr>\n",
       "      <th>precision</th>\n",
       "      <td>0.034384</td>\n",
       "    </tr>\n",
       "    <tr>\n",
       "      <th>f1</th>\n",
       "      <td>0.005904</td>\n",
       "    </tr>\n",
       "  </tbody>\n",
       "</table>\n",
       "</div>"
      ],
      "text/plain": [
       "           IL36g_pred\n",
       "acc          0.945622\n",
       "sens         0.003229\n",
       "spec         0.995226\n",
       "auc          0.506959\n",
       "precision    0.034384\n",
       "f1           0.005904"
      ]
     },
     "execution_count": 29,
     "metadata": {},
     "output_type": "execute_result"
    }
   ],
   "source": [
    "# Get the performance of the model\n",
    "df_statistics = pd.DataFrame(statistics_list, columns=['IL36g_pred'])\n",
    "index_names =['acc', 'sens', 'spec', 'auc', 'precision', 'f1']\n",
    "df_statistics.index = index_names\n",
    "df_statistics.to_csv('data_retrospective/statistics_prediction_IL36g_with_dude.csv')\n",
    "df_statistics\n"
   ]
  },
  {
   "cell_type": "code",
   "execution_count": 27,
   "metadata": {},
   "outputs": [
    {
     "data": {
      "text/plain": [
       "<sklearn.metrics._plot.roc_curve.RocCurveDisplay at 0x7f0b6f2d4950>"
      ]
     },
     "execution_count": 27,
     "metadata": {},
     "output_type": "execute_result"
    },
    {
     "data": {
      "image/png": "[encoded data removed]",
      "text/plain": [
       "<Figure size 600x600 with 1 Axes>"
      ]
     },
     "metadata": {},
     "output_type": "display_data"
    }
   ],
   "source": [
    "# Plot ROC\n",
    "fig, ax = plt.subplots(figsize=(6, 6))\n",
    "fpr, tpr, roc_thresh = roc_curve(Y_test, model_class.predict_proba(X_test)[:, 1], drop_intermediate=False)\n",
    "display = RocCurveDisplay(fpr=fpr,\n",
    "                            tpr=tpr,\n",
    "                            roc_auc=roc_auc_score(Y_test, model_class.predict_proba(X_test)[:, 1])\n",
    ")\n",
    "display.plot(ax=ax, lw=0.9, alpha=0.7)"
   ]
  },
  {
   "cell_type": "code",
   "execution_count": 28,
   "metadata": {},
   "outputs": [
    {
     "data": {
      "text/plain": [
       "<sklearn.metrics._plot.precision_recall_curve.PrecisionRecallDisplay at 0x7f0b4557e110>"
      ]
     },
     "execution_count": 28,
     "metadata": {},
     "output_type": "execute_result"
    },
    {
     "data": {
      "image/png": "[encoded data removed]",
      "text/plain": [
       "<Figure size 600x600 with 1 Axes>"
      ]
     },
     "metadata": {},
     "output_type": "display_data"
    }
   ],
   "source": [
    "# Plot PR\n",
    "fig, ax = plt.subplots(figsize=(6, 6))\n",
    "precision, recall, pr_thresh = precision_recall_curve(Y_test, model_class.predict_proba(X_test)[:, 1])\n",
    "display = PrecisionRecallDisplay(\n",
    "    precision=precision,\n",
    "    recall=recall,\n",
    ")\n",
    "display.plot(ax=ax, lw=1, alpha=0.7)"
   ]
  }
 ],
 "metadata": {
  "kernelspec": {
   "display_name": "PLM",
   "language": "python",
   "name": "python3"
  },
  "language_info": {
   "codemirror_mode": {
    "name": "ipython",
    "version": 3
   },
   "file_extension": ".py",
   "mimetype": "text/x-python",
   "name": "python",
   "nbconvert_exporter": "python",
   "pygments_lexer": "ipython3",
   "version": "3.11.5"
  }
 },
 "nbformat": 4,
 "nbformat_minor": 2
}
